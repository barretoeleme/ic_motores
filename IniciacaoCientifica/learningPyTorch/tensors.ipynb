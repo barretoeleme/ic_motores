{
 "cells": [
  {
   "cell_type": "markdown",
   "id": "7930e784-194c-4751-b21d-aaf1b22a45b4",
   "metadata": {},
   "source": [
    "video:\n",
    "https://www.youtube.com/watch?v=exaWOE8jvy8&t=5s"
   ]
  },
  {
   "cell_type": "code",
   "execution_count": 3,
   "id": "43186990-b34f-40df-a75d-bf1cf794bda5",
   "metadata": {},
   "outputs": [],
   "source": [
    "import torch\n",
    "import numpy as np"
   ]
  },
  {
   "cell_type": "code",
   "execution_count": 2,
   "id": "512030cc-3344-40c5-95c3-9908eb7f2184",
   "metadata": {},
   "outputs": [
    {
     "name": "stdout",
     "output_type": "stream",
     "text": [
      "tensor([1.2865e-26])\n"
     ]
    }
   ],
   "source": [
    "x = torch.empty(1)\n",
    "print(x)"
   ]
  },
  {
   "cell_type": "code",
   "execution_count": 3,
   "id": "af89b7e7-878a-4db4-b9db-a2735b8bbd62",
   "metadata": {},
   "outputs": [
    {
     "name": "stdout",
     "output_type": "stream",
     "text": [
      "tensor([[0.5917, 0.8988, 0.8730],\n",
      "        [0.3489, 0.8304, 0.1372]])\n"
     ]
    }
   ],
   "source": [
    "x = torch.rand(2, 3)\n",
    "print(x)"
   ]
  },
  {
   "cell_type": "code",
   "execution_count": 4,
   "id": "654f8e06-319a-4443-8ffa-1487281978ee",
   "metadata": {},
   "outputs": [
    {
     "name": "stdout",
     "output_type": "stream",
     "text": [
      "tensor([[[1.],\n",
      "         [1.]],\n",
      "\n",
      "        [[1.],\n",
      "         [1.]],\n",
      "\n",
      "        [[1.],\n",
      "         [1.]]])\n"
     ]
    }
   ],
   "source": [
    "x = torch.ones(3, 2, 1)\n",
    "print(x)\n",
    "# multidimensional tensor"
   ]
  },
  {
   "cell_type": "code",
   "execution_count": 5,
   "id": "1743c69a-e5d2-41b1-a807-590aec4a85c7",
   "metadata": {},
   "outputs": [
    {
     "name": "stdout",
     "output_type": "stream",
     "text": [
      "torch.float64\n",
      "torch.Size([2, 2])\n"
     ]
    }
   ],
   "source": [
    "x = torch.ones(2, 2, dtype = torch.double)\n",
    "print(x.dtype)\n",
    "print(x.size())"
   ]
  },
  {
   "cell_type": "code",
   "execution_count": 6,
   "id": "00b28715-d401-4c71-8d7e-11ca04917bbd",
   "metadata": {},
   "outputs": [
    {
     "name": "stdout",
     "output_type": "stream",
     "text": [
      "tensor([2.5000, 0.1000])\n"
     ]
    }
   ],
   "source": [
    "# you can also make tensors out of arrays\n",
    "x = torch.tensor([2.5, 0.1])\n",
    "print(x)"
   ]
  },
  {
   "cell_type": "markdown",
   "id": "96558ba9-7db8-4f84-aef7-78f934611437",
   "metadata": {},
   "source": [
    "## Basic tensor operations"
   ]
  },
  {
   "cell_type": "markdown",
   "id": "bb9c1b27-9e3a-46c1-a13c-3ce02b04180f",
   "metadata": {},
   "source": [
    "### Arithmatic operations"
   ]
  },
  {
   "cell_type": "code",
   "execution_count": 8,
   "id": "efee873d-1371-4637-aca2-4ccf4cb84572",
   "metadata": {},
   "outputs": [
    {
     "name": "stdout",
     "output_type": "stream",
     "text": [
      "tensor([[0.2889, 0.3758],\n",
      "        [0.7848, 0.0735]])\n",
      "tensor([[0.8688, 0.6621],\n",
      "        [0.2861, 0.9771]])\n"
     ]
    }
   ],
   "source": [
    "x = torch.rand(2, 2) # a 2x2 tensor with random values\n",
    "y = torch.rand(2, 2) # a 2x2 tensor with random values\n",
    "print(x)\n",
    "print(y)"
   ]
  },
  {
   "cell_type": "code",
   "execution_count": 18,
   "id": "3a61f8f1-5e2d-43f7-97e1-8b09d39a51f9",
   "metadata": {},
   "outputs": [
    {
     "data": {
      "text/plain": [
       "tensor([[1.1578, 1.0379],\n",
       "        [1.0709, 1.0506]])"
      ]
     },
     "execution_count": 18,
     "metadata": {},
     "output_type": "execute_result"
    }
   ],
   "source": [
    "# sum of tensors x & y\n",
    "z = x + y\n",
    "# you can also do:\n",
    "z = torch.add(x, y)\n",
    "z\n",
    "\n",
    "# both these operations do not change the values in x and y"
   ]
  },
  {
   "cell_type": "code",
   "execution_count": 17,
   "id": "e1bca754-735f-4083-aa22-db3b39c4ac75",
   "metadata": {},
   "outputs": [
    {
     "data": {
      "text/plain": [
       "(tensor([[0.2889, 0.3758],\n",
       "         [0.7848, 0.0735]]),\n",
       " tensor([[0.8688, 0.6621],\n",
       "         [0.2861, 0.9771]]))"
      ]
     },
     "execution_count": 17,
     "metadata": {},
     "output_type": "execute_result"
    }
   ],
   "source": [
    "x, y"
   ]
  },
  {
   "cell_type": "code",
   "execution_count": 21,
   "id": "2af20f73-eaec-4eef-ac0f-7f22f04d54b9",
   "metadata": {},
   "outputs": [
    {
     "data": {
      "text/plain": [
       "tensor([[1.4467, 1.4137],\n",
       "        [1.8557, 1.1240]])"
      ]
     },
     "execution_count": 21,
     "metadata": {},
     "output_type": "execute_result"
    }
   ],
   "source": [
    "# on the other hand, this one does change the values of the y tensor:\n",
    "y.add_(x)\n",
    "y\n",
    "# inplace operation"
   ]
  },
  {
   "cell_type": "code",
   "execution_count": 22,
   "id": "fccf3f2d-0129-4a33-ba71-76166eb41f14",
   "metadata": {},
   "outputs": [
    {
     "data": {
      "text/plain": [
       "tensor([[-1.1578, -1.0379],\n",
       "        [-1.0709, -1.0506]])"
      ]
     },
     "execution_count": 22,
     "metadata": {},
     "output_type": "execute_result"
    }
   ],
   "source": [
    "# subtract y from x tensor\n",
    "z = x - y\n",
    "# or\n",
    "z = torch.sub(x, y)\n",
    "# these do not change the values in x and y\n",
    "\n",
    "z"
   ]
  },
  {
   "cell_type": "code",
   "execution_count": 24,
   "id": "93df3973-15c6-4b1a-8c03-7db3005ac37b",
   "metadata": {},
   "outputs": [
    {
     "name": "stdout",
     "output_type": "stream",
     "text": [
      "tensor([[1.7357, 1.7896],\n",
      "        [2.6405, 1.1975]])\n",
      "tensor([[-1.1578, -1.0379],\n",
      "        [-1.0709, -1.0506]])\n",
      "tensor([[0.4180, 0.5313],\n",
      "        [1.4563, 0.0826]])\n",
      "tensor([[0.1997, 0.2658],\n",
      "        [0.4229, 0.0654]])\n"
     ]
    }
   ],
   "source": [
    "z = x + y\n",
    "z = torch.add(x, y)\n",
    "# inplace: x.add_(y)\n",
    "print(z)\n",
    "\n",
    "z = x - y\n",
    "z = torch.sub(x, y)\n",
    "# inplace: x.sub_(y)\n",
    "print(z)\n",
    "\n",
    "z = x * y\n",
    "z = torch.mul(x, y)\n",
    "# inplace: x.mul_(y)\n",
    "print(z)\n",
    "\n",
    "z = x / y\n",
    "z = torch.div(x, y)\n",
    "# inplace: x.div_(y)\n",
    "print(z)"
   ]
  },
  {
   "cell_type": "markdown",
   "id": "43bb4966-546e-4620-8a84-4cfa2fcdd601",
   "metadata": {},
   "source": [
    "### Slicing operations"
   ]
  },
  {
   "cell_type": "code",
   "execution_count": 25,
   "id": "763557df-dde6-4d89-b53b-39c4395b8516",
   "metadata": {},
   "outputs": [
    {
     "name": "stdout",
     "output_type": "stream",
     "text": [
      "tensor([[0.2831, 0.0264, 0.8278],\n",
      "        [0.0275, 0.7640, 0.0364],\n",
      "        [0.3775, 0.8739, 0.7157],\n",
      "        [0.0488, 0.6880, 0.2912],\n",
      "        [0.3947, 0.2655, 0.3861]])\n",
      "tensor([0.2831, 0.0275, 0.3775, 0.0488, 0.3947])\n"
     ]
    }
   ],
   "source": [
    "x = torch.rand(5, 3)\n",
    "print(x)\n",
    "print(x[:, 0]) # will print all lines of column 0"
   ]
  },
  {
   "cell_type": "code",
   "execution_count": 29,
   "id": "27473802-2fa7-4112-b153-9a275bf85c43",
   "metadata": {},
   "outputs": [
    {
     "name": "stdout",
     "output_type": "stream",
     "text": [
      "tensor(0.7640)\n",
      "0.7640487551689148\n"
     ]
    }
   ],
   "source": [
    "print(x[1, 1]) # prints tensor\n",
    "print(x[1, 1].item()) # prints whats inside the tensor (a single one)"
   ]
  },
  {
   "cell_type": "markdown",
   "id": "fe6f7211-e1f7-45f5-81cc-9eb9d0b02df1",
   "metadata": {},
   "source": [
    "### Reshaping & Resizing operations"
   ]
  },
  {
   "cell_type": "code",
   "execution_count": 30,
   "id": "e7694437-5ead-4bf2-bb37-319e55257d38",
   "metadata": {},
   "outputs": [
    {
     "name": "stdout",
     "output_type": "stream",
     "text": [
      "tensor([[0.1330, 0.6900, 0.2332, 0.6761],\n",
      "        [0.2089, 0.3733, 0.3674, 0.9770],\n",
      "        [0.0778, 0.2994, 0.1324, 0.5784],\n",
      "        [0.4286, 0.8795, 0.7098, 0.2159]])\n",
      "tensor([0.1330, 0.6900, 0.2332, 0.6761, 0.2089, 0.3733, 0.3674, 0.9770, 0.0778,\n",
      "        0.2994, 0.1324, 0.5784, 0.4286, 0.8795, 0.7098, 0.2159])\n"
     ]
    }
   ],
   "source": [
    "x = torch.rand(4, 4) # a 4x4 tensor with random values\n",
    "print(x)\n",
    "y = x.view(16) # transforms it into a single line tensor\n",
    "print(y)"
   ]
  },
  {
   "cell_type": "code",
   "execution_count": 33,
   "id": "e0407e40-0b1b-45fc-9d38-437201d69d79",
   "metadata": {},
   "outputs": [
    {
     "name": "stdout",
     "output_type": "stream",
     "text": [
      "tensor([[0.1330, 0.6900],\n",
      "        [0.2332, 0.6761],\n",
      "        [0.2089, 0.3733],\n",
      "        [0.3674, 0.9770],\n",
      "        [0.0778, 0.2994],\n",
      "        [0.1324, 0.5784],\n",
      "        [0.4286, 0.8795],\n",
      "        [0.7098, 0.2159]])\n",
      "tensor([[0.1330, 0.6900, 0.2332, 0.6761],\n",
      "        [0.2089, 0.3733, 0.3674, 0.9770],\n",
      "        [0.0778, 0.2994, 0.1324, 0.5784],\n",
      "        [0.4286, 0.8795, 0.7098, 0.2159]])\n"
     ]
    }
   ],
   "source": [
    "# if you want to specify one of the dimensions and just\n",
    "# let python calculate the other, you can do:\n",
    "y = x.view(8, -1)\n",
    "print(y)\n",
    "y = x.view(-1, 4)\n",
    "print(y)"
   ]
  },
  {
   "cell_type": "markdown",
   "id": "a4f140c6-f2aa-4d6d-8bf3-36f3f8297869",
   "metadata": {},
   "source": [
    "### Changing a tensor into a numpy array"
   ]
  },
  {
   "cell_type": "code",
   "execution_count": 46,
   "id": "2a011fa2-0573-42f0-8ef0-e3e14264be9f",
   "metadata": {},
   "outputs": [
    {
     "name": "stdout",
     "output_type": "stream",
     "text": [
      "tensor([1., 1., 1., 1., 1.])\n",
      "<class 'numpy.ndarray'>\n",
      "tensor([2., 2., 2., 2., 2.])\n",
      "[2. 2. 2. 2. 2.]\n",
      "tensor([3., 3., 3., 3., 3.])\n",
      "[3. 3. 3. 3. 3.]\n"
     ]
    }
   ],
   "source": [
    "a = torch.ones(5)\n",
    "print(a)\n",
    "\n",
    "b = a.numpy()\n",
    "print(type(b))\n",
    "\n",
    "# both these datas point to the same memory location\n",
    "# wich means, if you change one, the other is also going to be affected\n",
    "\n",
    "a.add_(1)\n",
    "print(a)\n",
    "print(b)\n",
    "\n",
    "b += 1\n",
    "print(a)\n",
    "print(b)"
   ]
  },
  {
   "cell_type": "markdown",
   "id": "a5810ca2-8acd-41a6-9a85-3226981523d6",
   "metadata": {},
   "source": [
    "### Changing a numpy array into a tensor"
   ]
  },
  {
   "cell_type": "code",
   "execution_count": 47,
   "id": "9b648e5f-34ff-4471-ad3b-bd09f1421f5b",
   "metadata": {},
   "outputs": [
    {
     "name": "stdout",
     "output_type": "stream",
     "text": [
      "[1. 1. 1. 1. 1.]\n",
      "tensor([1., 1., 1., 1., 1.], dtype=torch.float64)\n"
     ]
    }
   ],
   "source": [
    "a = np.ones(5)\n",
    "print(a)\n",
    "\n",
    "b = torch.from_numpy(a)\n",
    "print(b)\n",
    "\n",
    "# the latter is also valid for this occasion:\n",
    "# both these datas point to the same memory location\n",
    "# if you change one, the other is also going to be affected"
   ]
  },
  {
   "cell_type": "markdown",
   "id": "20b26e01-ff46-4361-ae3d-111d3fadcea8",
   "metadata": {},
   "source": [
    "### How to prevent that from happening?"
   ]
  },
  {
   "cell_type": "code",
   "execution_count": 53,
   "id": "0e1ccdbb-fa35-4bb9-8179-4061f1a89abd",
   "metadata": {},
   "outputs": [
    {
     "data": {
      "text/plain": [
       "tensor([[0.1997, 0.2658],\n",
       "        [0.4229, 0.0654]])"
      ]
     },
     "execution_count": 53,
     "metadata": {},
     "output_type": "execute_result"
    }
   ],
   "source": [
    "if torch.cuda.is_available():\n",
    "    device = torch.device(\"cuda\")\n",
    "    x = torch.ones(5, device = device) # create a tensor and put it on the gpu\n",
    "    y = torch.ones(5)\n",
    "    y = y.to(device) # moves to the gpu\n",
    "    z = x + y\n",
    "    # z.numpy() cannot do that because numpy can only handle cpu items\n",
    "    z = z.to(\"cpu\")\n",
    "    z.numpy()"
   ]
  },
  {
   "cell_type": "markdown",
   "id": "5e42fc35-a9ef-44a5-8f4f-994742988639",
   "metadata": {},
   "source": [
    "video: https://www.youtube.com/watch?v=2yBEZzQu8dA&list=PLCC34OHNcOtpcgR9LEYSdi9r7XIbpkpK1&index=2"
   ]
  },
  {
   "cell_type": "code",
   "execution_count": 1,
   "id": "3af55fd8-2fba-4fd8-921d-ad94a95d6ab0",
   "metadata": {},
   "outputs": [
    {
     "data": {
      "text/plain": [
       "[1, 2, 3, 4, 5]"
      ]
     },
     "execution_count": 1,
     "metadata": {},
     "output_type": "execute_result"
    }
   ],
   "source": [
    "my_list = [1, 2, 3, 4, 5]\n",
    "my_list"
   ]
  },
  {
   "cell_type": "code",
   "execution_count": 5,
   "id": "717f1de2-fabd-437e-abfb-85226c71539d",
   "metadata": {},
   "outputs": [
    {
     "data": {
      "text/plain": [
       "array([[0.25886482, 0.48201581, 0.35383565, 0.7157712 ],\n",
       "       [0.25991751, 0.53165565, 0.92875555, 0.58565779],\n",
       "       [0.24641555, 0.58816952, 0.8301771 , 0.96237735]])"
      ]
     },
     "execution_count": 5,
     "metadata": {},
     "output_type": "execute_result"
    }
   ],
   "source": [
    "np1 = np.random.rand(3, 4)\n",
    "np1"
   ]
  },
  {
   "cell_type": "code",
   "execution_count": 6,
   "id": "25ac6e25-a83b-407c-ae33-22de23f93525",
   "metadata": {},
   "outputs": [
    {
     "data": {
      "text/plain": [
       "tensor([[-1.8831, -0.3680, -0.7864,  1.5612],\n",
       "        [-1.3904,  0.4367,  0.7097, -0.3872],\n",
       "        [ 0.6127,  1.0317,  0.6978,  1.3511]])"
      ]
     },
     "execution_count": 6,
     "metadata": {},
     "output_type": "execute_result"
    }
   ],
   "source": [
    "tensor_2d = torch.randn(3, 4)\n",
    "tensor_2d"
   ]
  }
 ],
 "metadata": {
  "kernelspec": {
   "display_name": "Python 3 (ipykernel)",
   "language": "python",
   "name": "python3"
  },
  "language_info": {
   "codemirror_mode": {
    "name": "ipython",
    "version": 3
   },
   "file_extension": ".py",
   "mimetype": "text/x-python",
   "name": "python",
   "nbconvert_exporter": "python",
   "pygments_lexer": "ipython3",
   "version": "3.13.5"
  }
 },
 "nbformat": 4,
 "nbformat_minor": 5
}
