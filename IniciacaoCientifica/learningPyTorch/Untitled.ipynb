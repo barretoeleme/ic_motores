{
 "cells": [
  {
   "cell_type": "markdown",
   "id": "8367ba8e-5c02-4e76-9273-a34cf22d8a0f",
   "metadata": {},
   "source": [
    "video: https://www.youtube.com/watch?v=JHWqWIoac2I&t=148s"
   ]
  },
  {
   "cell_type": "code",
   "execution_count": 1,
   "id": "d58119e7-3c43-4a87-a7cc-6022f3eabe38",
   "metadata": {},
   "outputs": [],
   "source": [
    "import torch\n",
    "import torch.nn as nn\n",
    "import torch.nn.functional as F"
   ]
  },
  {
   "cell_type": "code",
   "execution_count": 3,
   "id": "9ed7acd0-5650-4eca-a2f1-ecd28191fbc1",
   "metadata": {},
   "outputs": [],
   "source": [
    "# create a model class that inherits the nn.Module\n",
    "\n",
    "class Model(nn.Module):\n",
    "    # Input layer (4 features of the flower) -> \n",
    "    # hidden layer1 (number of neurons) ->\n",
    "    # hidden layer H2 (n) ->\n",
    "    # output (target or labels - 3 classes of iris flowers)\n",
    "    def __init__(self, in_features = 4, h1 = 8, h2 = 8, out_features = 3):\n",
    "        self.fc1 = n.Linear(in_features, h1)\n",
    "        self.fc2 = nn.Linear(h1, h2)\n",
    "        self.out = nn.Linear(h2, out_features)\n",
    "\n",
    "    def forward(self, x):\n",
    "        x = F.relu()"
   ]
  },
  {
   "cell_type": "code",
   "execution_count": null,
   "id": "a0dc2c4b-f60b-4301-b599-08910802dd5b",
   "metadata": {},
   "outputs": [],
   "source": []
  }
 ],
 "metadata": {
  "kernelspec": {
   "display_name": "Python 3 (ipykernel)",
   "language": "python",
   "name": "python3"
  },
  "language_info": {
   "codemirror_mode": {
    "name": "ipython",
    "version": 3
   },
   "file_extension": ".py",
   "mimetype": "text/x-python",
   "name": "python",
   "nbconvert_exporter": "python",
   "pygments_lexer": "ipython3",
   "version": "3.13.5"
  }
 },
 "nbformat": 4,
 "nbformat_minor": 5
}
