{
 "cells": [
  {
   "cell_type": "code",
   "execution_count": 6,
   "id": "46670424",
   "metadata": {},
   "outputs": [],
   "source": [
    "# imports\n",
    "\n",
    "%matplotlib inline\n",
    "import numpy as np\n",
    "import pandas as pd\n",
    "import seaborn as sns\n",
    "import matplotlib.pyplot as plt\n",
    "\n",
    "motor = 'Nabla'"
   ]
  },
  {
   "cell_type": "code",
   "execution_count": 7,
   "id": "9a6ef0f5",
   "metadata": {},
   "outputs": [],
   "source": [
    "# reading hysteresis data\n",
    "\n",
    "hysteresisTrainTotal = pd.read_csv('/mnt/c/prog/IniciacaoCientifica/dataset/{}/hysteresis_all_scaled_train.csv'.format(motor))['total']\n",
    "hysteresisTestTotal = pd.read_csv('/mnt/c/prog/IniciacaoCientifica/dataset/{}/hysteresis_all_scaled_test.csv'.format(motor))['total']\n",
    "\n",
    "hysteresis = ({'train' : hysteresisTrainTotal,\n",
    "               'test' : hysteresisTestTotal})"
   ]
  },
  {
   "cell_type": "code",
   "execution_count": 8,
   "id": "3bb949af",
   "metadata": {},
   "outputs": [],
   "source": [
    "# reading Id Iq data\n",
    "\n",
    "IdIqTrain = pd.read_csv('/mnt/c/prog/IniciacaoCientifica/dataset/{}/idiq_all_scaled_train.csv'.format(motor))\n",
    "IdIqTest = pd.read_csv('/mnt/c/prog/IniciacaoCientifica/dataset/{}/idiq_all_scaled_test.csv'.format(motor))\n",
    "\n",
    "id = ({'train' : IdIqTrain['id'],\n",
    "         'test' : IdIqTest['id']})\n",
    "\n",
    "iq = ({'train' : IdIqTrain['iq'],\n",
    "         'test' : IdIqTest['iq']})"
   ]
  },
  {
   "cell_type": "code",
   "execution_count": 9,
   "id": "cc12b286",
   "metadata": {},
   "outputs": [],
   "source": [
    "# reading joule data\n",
    "\n",
    "jouleTrainTotal = pd.read_csv('/mnt/c/prog/IniciacaoCientifica/dataset/{}/joule_all_scaled_train.csv'.format(motor))['total']\n",
    "jouleTestTotal = pd.read_csv('/mnt/c/prog/IniciacaoCientifica/dataset/{}/joule_all_scaled_test.csv'.format(motor))['total']\n",
    "\n",
    "joule = ({'train' : jouleTrainTotal,\n",
    "          'test' : jouleTestTotal})"
   ]
  },
  {
   "cell_type": "code",
   "execution_count": 10,
   "id": "f2050007",
   "metadata": {},
   "outputs": [],
   "source": [
    "# reading speed data\n",
    "\n",
    "speedTrain = pd.read_csv('/mnt/c/prog/IniciacaoCientifica/dataset/{}/speed_all_scaled_train.csv'.format(motor))['N']\n",
    "speedTest = pd.read_csv('/mnt/c/prog/IniciacaoCientifica/dataset/{}/speed_all_scaled_test.csv'.format(motor))['N']\n",
    "\n",
    "speed = ({'train' : speedTrain,\n",
    "          'test' : speedTest})"
   ]
  },
  {
   "cell_type": "code",
   "execution_count": 11,
   "id": "146627d8",
   "metadata": {},
   "outputs": [],
   "source": [
    "# reading Xgeom data\n",
    "\n",
    "xgeomTrain = pd.read_csv('/mnt/c/prog/IniciacaoCientifica/dataset/{}/xgeom_all_scaled_train.csv'.format(motor))\n",
    "xgeomTest = pd.read_csv('/mnt/c/prog/IniciacaoCientifica/dataset/{}/xgeom_all_scaled_test.csv'.format(motor))\n",
    "\n",
    "xgeom = ({'train' : xgeomTrain,\n",
    "          'test' : xgeomTest})\n",
    "\n",
    "d1 = ({'train' : xgeomTrain['d1'],\n",
    "         'test' : xgeomTest['d1']})\n",
    "d2 = ({'train' : xgeomTrain['d2'],\n",
    "         'test' : xgeomTest['d2']})\n",
    "d3 = ({'train' : xgeomTrain['d3'],\n",
    "         'test' : xgeomTest['d3']})\n",
    "d4 = ({'train' : xgeomTrain['d4'],\n",
    "         'test' : xgeomTest['d4']})\n",
    "d5 = ({'train' : xgeomTrain['d5'],\n",
    "         'test' : xgeomTest['d5']})\n",
    "d6 = ({'train' : xgeomTrain['d6'],\n",
    "         'test' : xgeomTest['d6']})\n",
    "d7 = ({'train' : xgeomTrain['d7'],\n",
    "         'test' : xgeomTest['d7']})\n",
    "d8 = ({'train' : xgeomTrain['d8'],\n",
    "         'test' : xgeomTest['d8']})\n"
   ]
  },
  {
   "cell_type": "code",
   "execution_count": 12,
   "id": "c25392d7",
   "metadata": {},
   "outputs": [],
   "source": [
    "def combinedHist (name, train, test, binss = 100, sizeTrain = 20735, interval = 5, sizeTest = 4147):\n",
    "    fig = plt.figure(figsize = (6, 6))\n",
    "    grid = plt.GridSpec(4, 4, hspace = 0.2, wspace = 0.4)\n",
    "\n",
    "    main_ax = fig.add_subplot(grid[:-1, 1:])\n",
    "\n",
    "    y_hist = fig.add_subplot(grid[:-1, 0],\n",
    "                            xticklabels = [],\n",
    "                            sharey = main_ax)\n",
    "    x_hist = fig.add_subplot(grid[-1, 1:],\n",
    "                            yticklabels = [],\n",
    "                            sharex = main_ax)\n",
    "\n",
    "    main_ax.hist2d(train[0:sizeTrain:interval], test[0:sizeTest],\n",
    "                bins = binss, cmap = 'Blues')\n",
    "\n",
    "    x_hist.hist(train[0:sizeTrain:interval], histtype = 'stepfilled', bins = binss,\n",
    "                orientation = 'vertical', color = 'green', alpha = 0.3)\n",
    "    x_hist.invert_yaxis()\n",
    "\n",
    "    y_hist.hist(test[0:sizeTest], histtype = 'stepfilled', bins = binss,\n",
    "                orientation = 'horizontal', color = 'green', alpha = 0.3)\n",
    "    y_hist.invert_xaxis()\n",
    "\n",
    "    fig.suptitle(\"{} - Train and Test Comparison\".format(name), size = 18)\n",
    "    fig.supxlabel('Train')\n",
    "    fig.supylabel('Test')"
   ]
  },
  {
   "cell_type": "code",
   "execution_count": 13,
   "id": "a238d324",
   "metadata": {},
   "outputs": [],
   "source": [
    "def hist2d (name, train, test, binss = 100, sizeTrain = 20735, interval = 5, sizeTest = 4147):\n",
    "    plt.hist2d(train[0:sizeTrain:interval], test[0:sizeTest], bins = binss)\n",
    "\n",
    "    plt.title('{} - Train and Test'.format(name))\n",
    "\n",
    "    plt.colorbar()\n",
    "\n",
    "    plt.xlabel('Train')\n",
    "    plt.ylabel('Test')"
   ]
  },
  {
   "cell_type": "code",
   "execution_count": 14,
   "id": "0cd89865",
   "metadata": {},
   "outputs": [],
   "source": [
    "def histJointPlot (data):\n",
    "    sns.jointplot(data = data, x = \"train\", y = \"test\", kind = 'kde', color = 'pink')"
   ]
  },
  {
   "cell_type": "code",
   "execution_count": 15,
   "id": "70c715d8",
   "metadata": {},
   "outputs": [
    {
     "ename": "AttributeError",
     "evalue": "'Figure' object has no attribute 'supxlabel'",
     "output_type": "error",
     "traceback": [
      "\u001b[0;31m---------------------------------------------------------------------------\u001b[0m",
      "\u001b[0;31mAttributeError\u001b[0m                            Traceback (most recent call last)",
      "\u001b[0;32m<ipython-input-15-615dc600f816>\u001b[0m in \u001b[0;36m<module>\u001b[0;34m()\u001b[0m\n\u001b[1;32m      1\u001b[0m \u001b[0mhist2d\u001b[0m\u001b[0;34m(\u001b[0m\u001b[0;34m\"Hysteresis\"\u001b[0m\u001b[0;34m,\u001b[0m \u001b[0mhysteresis\u001b[0m\u001b[0;34m[\u001b[0m\u001b[0;34m'train'\u001b[0m\u001b[0;34m]\u001b[0m\u001b[0;34m,\u001b[0m \u001b[0mhysteresis\u001b[0m\u001b[0;34m[\u001b[0m\u001b[0;34m'test'\u001b[0m\u001b[0;34m]\u001b[0m\u001b[0;34m)\u001b[0m\u001b[0;34m\u001b[0m\u001b[0m\n\u001b[0;32m----> 2\u001b[0;31m \u001b[0mcombinedHist\u001b[0m\u001b[0;34m(\u001b[0m\u001b[0;34m\"Hysteresis\"\u001b[0m\u001b[0;34m,\u001b[0m \u001b[0mhysteresis\u001b[0m\u001b[0;34m[\u001b[0m\u001b[0;34m'train'\u001b[0m\u001b[0;34m]\u001b[0m\u001b[0;34m,\u001b[0m \u001b[0mhysteresis\u001b[0m\u001b[0;34m[\u001b[0m\u001b[0;34m'test'\u001b[0m\u001b[0;34m]\u001b[0m\u001b[0;34m)\u001b[0m\u001b[0;34m\u001b[0m\u001b[0m\n\u001b[0m\u001b[1;32m      3\u001b[0m \u001b[0mhistJointPlot\u001b[0m\u001b[0;34m(\u001b[0m\u001b[0mhysteresis\u001b[0m\u001b[0;34m)\u001b[0m\u001b[0;34m\u001b[0m\u001b[0m\n\u001b[1;32m      4\u001b[0m \u001b[0mplt\u001b[0m\u001b[0;34m.\u001b[0m\u001b[0mshow\u001b[0m\u001b[0;34m(\u001b[0m\u001b[0;34m)\u001b[0m\u001b[0;34m\u001b[0m\u001b[0m\n",
      "\u001b[0;32m<ipython-input-12-57cab2fde73a>\u001b[0m in \u001b[0;36mcombinedHist\u001b[0;34m(name, train, test, binss, sizeTrain, interval, sizeTest)\u001b[0m\n\u001b[1;32m     24\u001b[0m \u001b[0;34m\u001b[0m\u001b[0m\n\u001b[1;32m     25\u001b[0m     \u001b[0mfig\u001b[0m\u001b[0;34m.\u001b[0m\u001b[0msuptitle\u001b[0m\u001b[0;34m(\u001b[0m\u001b[0;34m\"{} - Train and Test Comparison\"\u001b[0m\u001b[0;34m.\u001b[0m\u001b[0mformat\u001b[0m\u001b[0;34m(\u001b[0m\u001b[0mname\u001b[0m\u001b[0;34m)\u001b[0m\u001b[0;34m,\u001b[0m \u001b[0msize\u001b[0m \u001b[0;34m=\u001b[0m \u001b[0;36m18\u001b[0m\u001b[0;34m)\u001b[0m\u001b[0;34m\u001b[0m\u001b[0m\n\u001b[0;32m---> 26\u001b[0;31m     \u001b[0mfig\u001b[0m\u001b[0;34m.\u001b[0m\u001b[0msupxlabel\u001b[0m\u001b[0;34m(\u001b[0m\u001b[0;34m'Train'\u001b[0m\u001b[0;34m)\u001b[0m\u001b[0;34m\u001b[0m\u001b[0m\n\u001b[0m\u001b[1;32m     27\u001b[0m     \u001b[0mfig\u001b[0m\u001b[0;34m.\u001b[0m\u001b[0msupylabel\u001b[0m\u001b[0;34m(\u001b[0m\u001b[0;34m'Test'\u001b[0m\u001b[0;34m)\u001b[0m\u001b[0;34m\u001b[0m\u001b[0m\n",
      "\u001b[0;31mAttributeError\u001b[0m: 'Figure' object has no attribute 'supxlabel'"
     ]
    },
    {
     "data": {
      "image/png": "[encoded data removed]",
      "text/plain": [
       "<Figure size 432x288 with 2 Axes>"
      ]
     },
     "metadata": {},
     "output_type": "display_data"
    },
    {
     "data": {
      "image/png": "[encoded data removed]",
      "text/plain": [
       "<Figure size 432x432 with 3 Axes>"
      ]
     },
     "metadata": {},
     "output_type": "display_data"
    }
   ],
   "source": [
    "hist2d(\"Hysteresis\", hysteresis['train'], hysteresis['test'])\n",
    "combinedHist(\"Hysteresis\", hysteresis['train'], hysteresis['test'])\n",
    "histJointPlot(hysteresis)\n",
    "plt.show()"
   ]
  },
  {
   "cell_type": "code",
   "execution_count": null,
   "id": "f401dd13",
   "metadata": {},
   "outputs": [],
   "source": [
    "hist2d(\"Joule\", joule['train'], joule['test'], 30)\n",
    "combinedHist(\"Joule\", joule['train'], joule['test'], 50)\n",
    "histJointPlot(joule)\n",
    "plt.show()"
   ]
  },
  {
   "cell_type": "code",
   "execution_count": null,
   "id": "269813ca",
   "metadata": {},
   "outputs": [],
   "source": [
    "hist2d(\"Speed\", speed['train'], speed['test'], 50, 23040, 5, 4608)\n",
    "combinedHist(\"Speed\", speed['train'], speed['test'], 50, 23040, 5, 4608)\n",
    "histJointPlot(speed)\n",
    "plt.show()"
   ]
  },
  {
   "cell_type": "code",
   "execution_count": null,
   "id": "998dbc49",
   "metadata": {},
   "outputs": [],
   "source": [
    "hist2d(\"Id\", id['train'], id['test'], 50)\n",
    "combinedHist(\"Id\", id['train'], id['test'], 50)\n",
    "histJointPlot(id)\n",
    "plt.show()"
   ]
  },
  {
   "cell_type": "code",
   "execution_count": null,
   "id": "f77d6c5e",
   "metadata": {},
   "outputs": [],
   "source": [
    "hist2d(\"Iq\", iq['train'], iq['test'], 50)\n",
    "combinedHist(\"Iq\", iq['train'], iq['test'], 50)\n",
    "histJointPlot(iq)\n",
    "plt.show()"
   ]
  },
  {
   "cell_type": "code",
   "execution_count": null,
   "id": "965de610",
   "metadata": {},
   "outputs": [],
   "source": [
    "hist2d(\"D3\", d3['train'], d3['test'])\n",
    "combinedHist(\"D3\", d3['train'], d3['test'])\n",
    "histJointPlot(d3)\n",
    "plt.show()"
   ]
  }
 ],
 "metadata": {
  "kernelspec": {
   "display_name": "Python 3 (ipykernel)",
   "language": "python",
   "name": "python3"
  },
  "language_info": {
   "codemirror_mode": {
    "name": "ipython",
    "version": 3
   },
   "file_extension": ".py",
   "mimetype": "text/x-python",
   "name": "python",
   "nbconvert_exporter": "python",
   "pygments_lexer": "ipython3",
   "version": "3.13.5"
  }
 },
 "nbformat": 4,
 "nbformat_minor": 5
}
