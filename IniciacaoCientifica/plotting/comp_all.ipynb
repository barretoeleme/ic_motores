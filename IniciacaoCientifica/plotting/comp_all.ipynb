{
 "cells": [
  {
   "cell_type": "code",
   "execution_count": 1,
   "metadata": {},
   "outputs": [],
   "source": [
    "%matplotlib inline\n",
    "import matplotlib.pyplot as plt\n",
    "import numpy as np\n",
    "import pandas as pd\n",
    "import seaborn as sns\n",
    "\n",
    "motor1 = \"2D\"\n",
    "motor2 = \"Nabla\"\n",
    "motor3 = \"V\"\n",
    "\n",
    "motor2D = ({})\n",
    "motorNabla = ({})\n",
    "motorV = ({})"
   ]
  },
  {
   "cell_type": "code",
   "execution_count": 2,
   "metadata": {},
   "outputs": [],
   "source": [
    "def read (motorVar, motorName, variableName, index = 'total'):\n",
    "    train = pd.read_csv(f'/mnt/c/prog/IniciacaoCientifica/dataset/{motorName}/{variableName}_all_scaled_train.csv')[index]\n",
    "    test = pd.read_csv(f'/mnt/c/prog/IniciacaoCientifica/dataset/{motorName}/{variableName}_all_scaled_test.csv')[index]\n",
    "\n",
    "    motorVar = ({variableName : {'train' : train,\n",
    "                                 'test' : test}})\n",
    "    \n",
    "    return motorVar[variableName]"
   ]
  },
  {
   "cell_type": "code",
   "execution_count": 3,
   "metadata": {},
   "outputs": [],
   "source": [
    "variableName = 'hysteresis'\n",
    "\n",
    "variableTrainTotal = pd.read_csv(f'/mnt/c/prog/IniciacaoCientifica/dataset/{motor1}/{variableName}_all_scaled_train.csv')['total']\n",
    "variableTestTotal = pd.read_csv(f'/mnt/c/prog/IniciacaoCientifica/dataset/{motor1}/{variableName}_all_scaled_test.csv')['total']\n",
    "\n",
    "motor2D[variableName] = ({'train' : variableTrainTotal,\n",
    "                          'test' : variableTestTotal})\n",
    "\n",
    "variableTrainTotal = pd.read_csv(f'/mnt/c/prog/IniciacaoCientifica/dataset/{motor2}/{variableName}_all_scaled_train.csv')['total']\n",
    "variableTestTotal = pd.read_csv(f'/mnt/c/prog/IniciacaoCientifica/dataset/{motor2}/{variableName}_all_scaled_test.csv')['total']\n",
    "\n",
    "motorNabla[variableName] = ({'train' : variableTrainTotal,\n",
    "                             'test' : variableTestTotal})\n",
    "\n",
    "variableTrainTotal = pd.read_csv(f'/mnt/c/prog/IniciacaoCientifica/dataset/{motor3}/{variableName}_all_scaled_train.csv')['total']\n",
    "variableTestTotal = pd.read_csv(f'/mnt/c/prog/IniciacaoCientifica/dataset/{motor3}/{variableName}_all_scaled_test.csv')['total']\n",
    "\n",
    "motorV[variableName] = ({'train' : variableTrainTotal,\n",
    "                         'test' : variableTestTotal})"
   ]
  },
  {
   "cell_type": "code",
   "execution_count": 4,
   "metadata": {},
   "outputs": [],
   "source": [
    "variableName = 'joule'\n",
    "\n",
    "variableTrainTotal = pd.read_csv(f'/mnt/c/prog/IniciacaoCientifica/dataset/{motor1}/{variableName}_all_scaled_train.csv')['total']\n",
    "variableTestTotal = pd.read_csv(f'/mnt/c/prog/IniciacaoCientifica/dataset/{motor1}/{variableName}_all_scaled_test.csv')['total']\n",
    "\n",
    "motor2D[variableName] = ({'train' : variableTrainTotal,\n",
    "                          'test' : variableTestTotal})\n",
    "\n",
    "variableTrainTotal = pd.read_csv(f'/mnt/c/prog/IniciacaoCientifica/dataset/{motor2}/{variableName}_all_scaled_train.csv')['total']\n",
    "variableTestTotal = pd.read_csv(f'/mnt/c/prog/IniciacaoCientifica/dataset/{motor2}/{variableName}_all_scaled_test.csv')['total']\n",
    "\n",
    "motorNabla[variableName] = ({'train' : variableTrainTotal,\n",
    "                             'test' : variableTestTotal})\n",
    "\n",
    "variableTrainTotal = pd.read_csv(f'/mnt/c/prog/IniciacaoCientifica/dataset/{motor3}/{variableName}_all_scaled_train.csv')['total']\n",
    "variableTestTotal = pd.read_csv(f'/mnt/c/prog/IniciacaoCientifica/dataset/{motor3}/{variableName}_all_scaled_test.csv')['total']\n",
    "\n",
    "motorV[variableName] = ({'train' : variableTrainTotal,\n",
    "                         'test' : variableTestTotal})"
   ]
  },
  {
   "cell_type": "code",
   "execution_count": 5,
   "metadata": {},
   "outputs": [],
   "source": [
    "variableName = 'speed'\n",
    "\n",
    "variableTrainTotal = pd.read_csv(f'/mnt/c/prog/IniciacaoCientifica/dataset/{motor1}/{variableName}_all_scaled_train.csv')['N']\n",
    "variableTestTotal = pd.read_csv(f'/mnt/c/prog/IniciacaoCientifica/dataset/{motor1}/{variableName}_all_scaled_test.csv')['N']\n",
    "\n",
    "motor2D[variableName] = ({'train' : variableTrainTotal,\n",
    "                          'test' : variableTestTotal})\n",
    "\n",
    "variableTrainTotal = pd.read_csv(f'/mnt/c/prog/IniciacaoCientifica/dataset/{motor2}/{variableName}_all_scaled_train.csv')['N']\n",
    "variableTestTotal = pd.read_csv(f'/mnt/c/prog/IniciacaoCientifica/dataset/{motor2}/{variableName}_all_scaled_test.csv')['N']\n",
    "\n",
    "motorNabla[variableName] = ({'train' : variableTrainTotal,\n",
    "                             'test' : variableTestTotal})\n",
    "\n",
    "variableTrainTotal = pd.read_csv(f'/mnt/c/prog/IniciacaoCientifica/dataset/{motor3}/{variableName}_all_scaled_train.csv')['N']\n",
    "variableTestTotal = pd.read_csv(f'/mnt/c/prog/IniciacaoCientifica/dataset/{motor3}/{variableName}_all_scaled_test.csv')['N']\n",
    "\n",
    "motorV[variableName] = ({'train' : variableTrainTotal,\n",
    "                         'test' : variableTestTotal})"
   ]
  },
  {
   "cell_type": "code",
   "execution_count": 6,
   "metadata": {},
   "outputs": [],
   "source": [
    "variableName = 'id'\n",
    "\n",
    "variableTrainTotal = pd.read_csv(f'/mnt/c/prog/IniciacaoCientifica/dataset/{motor1}/idiq_all_scaled_train.csv')['id']\n",
    "variableTestTotal = pd.read_csv(f'/mnt/c/prog/IniciacaoCientifica/dataset/{motor1}/idiq_all_scaled_test.csv')['id']\n",
    "\n",
    "motor2D[variableName] = ({'train' : variableTrainTotal,\n",
    "                          'test' : variableTestTotal})\n",
    "\n",
    "variableTrainTotal = pd.read_csv(f'/mnt/c/prog/IniciacaoCientifica/dataset/{motor2}/idiq_all_scaled_train.csv')['id']\n",
    "variableTestTotal = pd.read_csv(f'/mnt/c/prog/IniciacaoCientifica/dataset/{motor2}/idiq_all_scaled_test.csv')['id']\n",
    "\n",
    "motorNabla[variableName] = ({'train' : variableTrainTotal,\n",
    "                             'test' : variableTestTotal})\n",
    "\n",
    "variableTrainTotal = pd.read_csv(f'/mnt/c/prog/IniciacaoCientifica/dataset/{motor3}/idiq_all_scaled_train.csv')['id']\n",
    "variableTestTotal = pd.read_csv(f'/mnt/c/prog/IniciacaoCientifica/dataset/{motor3}/idiq_all_scaled_test.csv')['id']\n",
    "\n",
    "motorV[variableName] = ({'train' : variableTrainTotal,\n",
    "                         'test' : variableTestTotal})"
   ]
  },
  {
   "cell_type": "code",
   "execution_count": 7,
   "metadata": {},
   "outputs": [],
   "source": [
    "variableName = 'iq'\n",
    "\n",
    "variableTrainTotal = pd.read_csv(f'/mnt/c/prog/IniciacaoCientifica/dataset/{motor1}/idiq_all_scaled_train.csv')['iq']\n",
    "variableTestTotal = pd.read_csv(f'/mnt/c/prog/IniciacaoCientifica/dataset/{motor1}/idiq_all_scaled_test.csv')['iq']\n",
    "\n",
    "motor2D[variableName] = ({'train' : variableTrainTotal,\n",
    "                          'test' : variableTestTotal})\n",
    "\n",
    "variableTrainTotal = pd.read_csv(f'/mnt/c/prog/IniciacaoCientifica/dataset/{motor2}/idiq_all_scaled_train.csv')['iq']\n",
    "variableTestTotal = pd.read_csv(f'/mnt/c/prog/IniciacaoCientifica/dataset/{motor2}/idiq_all_scaled_test.csv')['iq']\n",
    "\n",
    "motorNabla[variableName] = ({'train' : variableTrainTotal,\n",
    "                             'test' : variableTestTotal})\n",
    "\n",
    "variableTrainTotal = pd.read_csv(f'/mnt/c/prog/IniciacaoCientifica/dataset/{motor3}/idiq_all_scaled_train.csv')['iq']\n",
    "variableTestTotal = pd.read_csv(f'/mnt/c/prog/IniciacaoCientifica/dataset/{motor3}/idiq_all_scaled_test.csv')['iq']\n",
    "\n",
    "motorV[variableName] = ({'train' : variableTrainTotal,\n",
    "                         'test' : variableTestTotal})"
   ]
  },
  {
   "cell_type": "code",
   "execution_count": 33,
   "metadata": {},
   "outputs": [],
   "source": [
    "def motors2dkde (variable):\n",
    "    sns.kdeplot(motor2D[variable], x = 'train', y = 'test', alpha = 0.3)\n",
    "    sns.kdeplot(motorNabla[variable], x = 'train', y = 'test', alpha = 0.3)\n",
    "    sns.kdeplot(motorV[variable], x = 'train', y = 'test', alpha = 0.3)\n",
    "    plt.title(\"{} - Test and Train - All Motors\".format(variable))\n",
    "    plt.show()"
   ]
  },
  {
   "cell_type": "code",
   "execution_count": 34,
   "metadata": {},
   "outputs": [],
   "source": [
    "def motorskde (variable, method):\n",
    "    fig = plt.figure()\n",
    "    \n",
    "    sns.kdeplot(motor2D[variable][method], alpha = 0.3)\n",
    "    sns.kdeplot(motorNabla[variable][method], alpha = 0.3)\n",
    "    sns.kdeplot(motorV[variable][method], alpha = 0.3)\n",
    "    plt.legend(['2D', 'Nabla', 'V'])\n",
    "    plt.title(f\"{variable} - {method} - All Motors\")\n",
    "\n",
    "    plt.show()"
   ]
  },
  {
   "cell_type": "code",
   "execution_count": 35,
   "metadata": {},
   "outputs": [],
   "source": [
    "def showAllPlots(varName):\n",
    "    motors2dkde(varName)\n",
    "    motorskde(varName, 'train')\n",
    "    motorskde(varName, 'test')"
   ]
  },
  {
   "cell_type": "code",
   "execution_count": 36,
   "metadata": {},
   "outputs": [
    {
     "ename": "AttributeError",
     "evalue": "'dict' object has no attribute 'astype'",
     "output_type": "error",
     "traceback": [
      "\u001b[0;31m---------------------------------------------------------------------------\u001b[0m",
      "\u001b[0;31mAttributeError\u001b[0m                            Traceback (most recent call last)",
      "\u001b[0;32m<ipython-input-36-d442ed135efc>\u001b[0m in \u001b[0;36m<module>\u001b[0;34m()\u001b[0m\n\u001b[0;32m----> 1\u001b[0;31m \u001b[0mshowAllPlots\u001b[0m\u001b[0;34m(\u001b[0m\u001b[0;34m'hysteresis'\u001b[0m\u001b[0;34m)\u001b[0m\u001b[0;34m\u001b[0m\u001b[0m\n\u001b[0m",
      "\u001b[0;32m<ipython-input-35-e84810c9ed88>\u001b[0m in \u001b[0;36mshowAllPlots\u001b[0;34m(varName)\u001b[0m\n\u001b[1;32m      1\u001b[0m \u001b[0;32mdef\u001b[0m \u001b[0mshowAllPlots\u001b[0m\u001b[0;34m(\u001b[0m\u001b[0mvarName\u001b[0m\u001b[0;34m)\u001b[0m\u001b[0;34m:\u001b[0m\u001b[0;34m\u001b[0m\u001b[0m\n\u001b[0;32m----> 2\u001b[0;31m     \u001b[0mmotors2dkde\u001b[0m\u001b[0;34m(\u001b[0m\u001b[0mvarName\u001b[0m\u001b[0;34m)\u001b[0m\u001b[0;34m\u001b[0m\u001b[0m\n\u001b[0m\u001b[1;32m      3\u001b[0m     \u001b[0mmotorskde\u001b[0m\u001b[0;34m(\u001b[0m\u001b[0mvarName\u001b[0m\u001b[0;34m,\u001b[0m \u001b[0;34m'train'\u001b[0m\u001b[0;34m)\u001b[0m\u001b[0;34m\u001b[0m\u001b[0m\n\u001b[1;32m      4\u001b[0m     \u001b[0mmotorskde\u001b[0m\u001b[0;34m(\u001b[0m\u001b[0mvarName\u001b[0m\u001b[0;34m,\u001b[0m \u001b[0;34m'test'\u001b[0m\u001b[0;34m)\u001b[0m\u001b[0;34m\u001b[0m\u001b[0m\n",
      "\u001b[0;32m<ipython-input-33-fc63a23bdde2>\u001b[0m in \u001b[0;36mmotors2dkde\u001b[0;34m(variable)\u001b[0m\n\u001b[1;32m      1\u001b[0m \u001b[0;32mdef\u001b[0m \u001b[0mmotors2dkde\u001b[0m \u001b[0;34m(\u001b[0m\u001b[0mvariable\u001b[0m\u001b[0;34m)\u001b[0m\u001b[0;34m:\u001b[0m\u001b[0;34m\u001b[0m\u001b[0m\n\u001b[0;32m----> 2\u001b[0;31m     \u001b[0msns\u001b[0m\u001b[0;34m.\u001b[0m\u001b[0mkdeplot\u001b[0m\u001b[0;34m(\u001b[0m\u001b[0mmotor2D\u001b[0m\u001b[0;34m[\u001b[0m\u001b[0mvariable\u001b[0m\u001b[0;34m]\u001b[0m\u001b[0;34m,\u001b[0m \u001b[0mx\u001b[0m \u001b[0;34m=\u001b[0m \u001b[0;34m'train'\u001b[0m\u001b[0;34m,\u001b[0m \u001b[0my\u001b[0m \u001b[0;34m=\u001b[0m \u001b[0;34m'test'\u001b[0m\u001b[0;34m,\u001b[0m \u001b[0malpha\u001b[0m \u001b[0;34m=\u001b[0m \u001b[0;36m0.3\u001b[0m\u001b[0;34m)\u001b[0m\u001b[0;34m\u001b[0m\u001b[0m\n\u001b[0m\u001b[1;32m      3\u001b[0m     \u001b[0msns\u001b[0m\u001b[0;34m.\u001b[0m\u001b[0mkdeplot\u001b[0m\u001b[0;34m(\u001b[0m\u001b[0mmotorNabla\u001b[0m\u001b[0;34m[\u001b[0m\u001b[0mvariable\u001b[0m\u001b[0;34m]\u001b[0m\u001b[0;34m,\u001b[0m \u001b[0mx\u001b[0m \u001b[0;34m=\u001b[0m \u001b[0;34m'train'\u001b[0m\u001b[0;34m,\u001b[0m \u001b[0my\u001b[0m \u001b[0;34m=\u001b[0m \u001b[0;34m'test'\u001b[0m\u001b[0;34m,\u001b[0m \u001b[0malpha\u001b[0m \u001b[0;34m=\u001b[0m \u001b[0;36m0.3\u001b[0m\u001b[0;34m)\u001b[0m\u001b[0;34m\u001b[0m\u001b[0m\n\u001b[1;32m      4\u001b[0m     \u001b[0msns\u001b[0m\u001b[0;34m.\u001b[0m\u001b[0mkdeplot\u001b[0m\u001b[0;34m(\u001b[0m\u001b[0mmotorV\u001b[0m\u001b[0;34m[\u001b[0m\u001b[0mvariable\u001b[0m\u001b[0;34m]\u001b[0m\u001b[0;34m,\u001b[0m \u001b[0mx\u001b[0m \u001b[0;34m=\u001b[0m \u001b[0;34m'train'\u001b[0m\u001b[0;34m,\u001b[0m \u001b[0my\u001b[0m \u001b[0;34m=\u001b[0m \u001b[0;34m'test'\u001b[0m\u001b[0;34m,\u001b[0m \u001b[0malpha\u001b[0m \u001b[0;34m=\u001b[0m \u001b[0;36m0.3\u001b[0m\u001b[0;34m)\u001b[0m\u001b[0;34m\u001b[0m\u001b[0m\n\u001b[1;32m      5\u001b[0m     \u001b[0mplt\u001b[0m\u001b[0;34m.\u001b[0m\u001b[0mtitle\u001b[0m\u001b[0;34m(\u001b[0m\u001b[0;34m\"{} - Test and Train - All Motors\"\u001b[0m\u001b[0;34m.\u001b[0m\u001b[0mformat\u001b[0m\u001b[0;34m(\u001b[0m\u001b[0mvariable\u001b[0m\u001b[0;34m)\u001b[0m\u001b[0;34m)\u001b[0m\u001b[0;34m\u001b[0m\u001b[0m\n",
      "\u001b[0;32m~/anaconda3/lib/python3.6/site-packages/seaborn/distributions.py\u001b[0m in \u001b[0;36mkdeplot\u001b[0;34m(data, data2, shade, vertical, kernel, bw, gridsize, cut, clip, legend, cumulative, shade_lowest, cbar, cbar_ax, cbar_kws, ax, **kwargs)\u001b[0m\n\u001b[1;32m    617\u001b[0m         \u001b[0;32mreturn\u001b[0m \u001b[0max\u001b[0m\u001b[0;34m\u001b[0m\u001b[0m\n\u001b[1;32m    618\u001b[0m \u001b[0;34m\u001b[0m\u001b[0m\n\u001b[0;32m--> 619\u001b[0;31m     \u001b[0mdata\u001b[0m \u001b[0;34m=\u001b[0m \u001b[0mdata\u001b[0m\u001b[0;34m.\u001b[0m\u001b[0mastype\u001b[0m\u001b[0;34m(\u001b[0m\u001b[0mnp\u001b[0m\u001b[0;34m.\u001b[0m\u001b[0mfloat64\u001b[0m\u001b[0;34m)\u001b[0m\u001b[0;34m\u001b[0m\u001b[0m\n\u001b[0m\u001b[1;32m    620\u001b[0m     \u001b[0;32mif\u001b[0m \u001b[0mdata2\u001b[0m \u001b[0;32mis\u001b[0m \u001b[0;32mnot\u001b[0m \u001b[0;32mNone\u001b[0m\u001b[0;34m:\u001b[0m\u001b[0;34m\u001b[0m\u001b[0m\n\u001b[1;32m    621\u001b[0m         \u001b[0;32mif\u001b[0m \u001b[0misinstance\u001b[0m\u001b[0;34m(\u001b[0m\u001b[0mdata2\u001b[0m\u001b[0;34m,\u001b[0m \u001b[0mlist\u001b[0m\u001b[0;34m)\u001b[0m\u001b[0;34m:\u001b[0m\u001b[0;34m\u001b[0m\u001b[0m\n",
      "\u001b[0;31mAttributeError\u001b[0m: 'dict' object has no attribute 'astype'"
     ]
    },
    {
     "data": {
      "image/png": "[encoded data removed]",
      "text/plain": [
       "<Figure size 432x288 with 1 Axes>"
      ]
     },
     "metadata": {},
     "output_type": "display_data"
    }
   ],
   "source": [
    "showAllPlots('hysteresis')"
   ]
  },
  {
   "cell_type": "code",
   "execution_count": null,
   "metadata": {},
   "outputs": [],
   "source": [
    "showAllPlots('joule')"
   ]
  },
  {
   "cell_type": "code",
   "execution_count": null,
   "metadata": {},
   "outputs": [],
   "source": [
    "showAllPlots('speed')"
   ]
  },
  {
   "cell_type": "code",
   "execution_count": null,
   "metadata": {},
   "outputs": [],
   "source": [
    "showAllPlots('id')"
   ]
  },
  {
   "cell_type": "code",
   "execution_count": null,
   "metadata": {},
   "outputs": [],
   "source": [
    "showAllPlots('iq')"
   ]
  },
  {
   "cell_type": "code",
   "execution_count": 15,
   "metadata": {},
   "outputs": [
    {
     "ename": "AttributeError",
     "evalue": "'dict' object has no attribute 'drop'",
     "output_type": "error",
     "traceback": [
      "\u001b[0;31m-------------------------------------------------------------\u001b[0m",
      "\u001b[0;31mAttributeError\u001b[0m              Traceback (most recent call last)",
      "\u001b[0;32m<ipython-input-15-bdbd5fb609f1>\u001b[0m in \u001b[0;36m<module>\u001b[0;34m()\u001b[0m\n\u001b[1;32m      8\u001b[0m \u001b[0;31m# compare y to test dataset\u001b[0m\u001b[0;34m\u001b[0m\u001b[0;34m\u001b[0m\u001b[0m\n\u001b[1;32m      9\u001b[0m \u001b[0;34m\u001b[0m\u001b[0m\n\u001b[0;32m---> 10\u001b[0;31m \u001b[0mX\u001b[0m \u001b[0;34m=\u001b[0m \u001b[0mmotor2D\u001b[0m\u001b[0;34m.\u001b[0m\u001b[0mdrop\u001b[0m\u001b[0;34m(\u001b[0m\u001b[0mcolumns\u001b[0m \u001b[0;34m=\u001b[0m \u001b[0;34m'speed'\u001b[0m\u001b[0;34m)\u001b[0m\u001b[0;34m\u001b[0m\u001b[0m\n\u001b[0m\u001b[1;32m     11\u001b[0m \u001b[0my\u001b[0m \u001b[0;34m=\u001b[0m \u001b[0mmotor2D\u001b[0m\u001b[0;34m[\u001b[0m\u001b[0;34m'speed'\u001b[0m\u001b[0;34m]\u001b[0m\u001b[0;34m[\u001b[0m\u001b[0;34m'train'\u001b[0m\u001b[0;34m]\u001b[0m\u001b[0;34m\u001b[0m\u001b[0m\n\u001b[1;32m     12\u001b[0m \u001b[0;34m\u001b[0m\u001b[0m\n",
      "\u001b[0;31mAttributeError\u001b[0m: 'dict' object has no attribute 'drop'"
     ]
    }
   ],
   "source": [
    "# questions and answers\n",
    "from sklearn.metrics import accuracy_score\n",
    "from sklearn.linear_model import LinearRegression\n",
    "model2D = ({})\n",
    "\n",
    "# X -> question, what we have (on dataset)\n",
    "# y -> predicted answer (not on dataset)\n",
    "# compare y to test dataset\n",
    "\n",
    "X = ([motor2D['id']['train']], [motor2D['joule']['train']])\n",
    "y = motor2D['speed']['train']\n",
    "\n",
    "X = ({})\n",
    "\n",
    "model = LinearRegression(fit_intercept = True)\n",
    "model.fit(X, y)\n",
    "\n",
    "# model.fit(X, y)\n"
   ]
  },
  {
   "cell_type": "code",
   "execution_count": null,
   "metadata": {},
   "outputs": [],
   "source": []
  }
 ],
 "metadata": {
  "kernelspec": {
   "display_name": "Python 3 (ipykernel)",
   "language": "python",
   "name": "python3"
  },
  "language_info": {
   "codemirror_mode": {
    "name": "ipython",
    "version": 3
   },
   "file_extension": ".py",
   "mimetype": "text/x-python",
   "name": "python",
   "nbconvert_exporter": "python",
   "pygments_lexer": "ipython3",
   "version": "3.6.5"
  }
 },
 "nbformat": 4,
 "nbformat_minor": 5
}
